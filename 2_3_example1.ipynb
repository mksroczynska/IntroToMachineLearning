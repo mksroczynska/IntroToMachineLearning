{
 "cells": [
  {
   "cell_type": "code",
   "execution_count": 93,
   "metadata": {},
   "outputs": [
    {
     "data": {
      "text/html": [
       "<div>\n",
       "<style scoped>\n",
       "    .dataframe tbody tr th:only-of-type {\n",
       "        vertical-align: middle;\n",
       "    }\n",
       "\n",
       "    .dataframe tbody tr th {\n",
       "        vertical-align: top;\n",
       "    }\n",
       "\n",
       "    .dataframe thead th {\n",
       "        text-align: right;\n",
       "    }\n",
       "</style>\n",
       "<table border=\"1\" class=\"dataframe\">\n",
       "  <thead>\n",
       "    <tr style=\"text-align: right;\">\n",
       "      <th></th>\n",
       "      <th>at1</th>\n",
       "      <th>at2</th>\n",
       "      <th>at3</th>\n",
       "      <th>class</th>\n",
       "    </tr>\n",
       "  </thead>\n",
       "  <tbody>\n",
       "    <tr>\n",
       "      <th>0</th>\n",
       "      <td>3.2</td>\n",
       "      <td>2.1</td>\n",
       "      <td>2.10</td>\n",
       "      <td>pos</td>\n",
       "    </tr>\n",
       "    <tr>\n",
       "      <th>1</th>\n",
       "      <td>5.2</td>\n",
       "      <td>6.1</td>\n",
       "      <td>7.50</td>\n",
       "      <td>pos</td>\n",
       "    </tr>\n",
       "    <tr>\n",
       "      <th>2</th>\n",
       "      <td>8.5</td>\n",
       "      <td>1.3</td>\n",
       "      <td>0.50</td>\n",
       "      <td>pos</td>\n",
       "    </tr>\n",
       "    <tr>\n",
       "      <th>3</th>\n",
       "      <td>2.3</td>\n",
       "      <td>5.4</td>\n",
       "      <td>2.45</td>\n",
       "      <td>neg</td>\n",
       "    </tr>\n",
       "    <tr>\n",
       "      <th>4</th>\n",
       "      <td>6.2</td>\n",
       "      <td>3.1</td>\n",
       "      <td>4.40</td>\n",
       "      <td>neg</td>\n",
       "    </tr>\n",
       "    <tr>\n",
       "      <th>5</th>\n",
       "      <td>1.3</td>\n",
       "      <td>6.0</td>\n",
       "      <td>3.35</td>\n",
       "      <td>neg</td>\n",
       "    </tr>\n",
       "  </tbody>\n",
       "</table>\n",
       "</div>"
      ],
      "text/plain": [
       "   at1  at2   at3 class\n",
       "0  3.2  2.1  2.10   pos\n",
       "1  5.2  6.1  7.50   pos\n",
       "2  8.5  1.3  0.50   pos\n",
       "3  2.3  5.4  2.45   neg\n",
       "4  6.2  3.1  4.40   neg\n",
       "5  1.3  6.0  3.35   neg"
      ]
     },
     "metadata": {},
     "output_type": "display_data"
    }
   ],
   "source": [
    "import pandas as pd\n",
    "data = pd.read_csv(\"example1.csv\")\n",
    "display(data)"
   ]
  },
  {
   "cell_type": "markdown",
   "metadata": {},
   "source": [
    "Calculate p<sub>c<sub>i</sub></sub>(x), where c<sub>i</sub> - class - probability density function created from training examples which belong to class c<sub>i</sub>"
   ]
  },
  {
   "cell_type": "code",
   "execution_count": 108,
   "metadata": {},
   "outputs": [],
   "source": [
    "from math import exp, sqrt, pi\n",
    "def p_ci(x, data, attribute_name, ci, variance):\n",
    "    total_p = 0\n",
    "    ci_examples = data.loc[data['class'] == ci]\n",
    "    ci_examples_att_list = ci_examples[attribute_name]\n",
    "    m = len(ci_examples_att_list)\n",
    "    for mu in ci_examples_att_list:\n",
    "        total_p += exp(-(x - mu) ** 2 / (2 * variance))\n",
    "    k = 1 / (sqrt(2 * pi * variance) ** m)\n",
    "    return k * total_p"
   ]
  },
  {
   "cell_type": "markdown",
   "metadata": {},
   "source": [
    "P(c<sub>i</sub>) - relative frequency of c<sub>i</sub> in the training set"
   ]
  },
  {
   "cell_type": "code",
   "execution_count": 107,
   "metadata": {},
   "outputs": [],
   "source": [
    "def P(ci, data):\n",
    "    return len(data.loc[data['class']==ci])/len(data)"
   ]
  },
  {
   "cell_type": "markdown",
   "metadata": {},
   "source": [
    " $p_{c_i}(\\mathbf{x}) =  \\prod_{i=1}^n p_{c_i}(x)$ - probability density function for $\\mathbf{x}$ described by the set of parameters:"
   ]
  },
  {
   "cell_type": "code",
   "execution_count": 109,
   "metadata": {},
   "outputs": [],
   "source": [
    "def p_ci_vec(vector, ci, data, variance):\n",
    "    pp = 1\n",
    "    for k, v in vector.items():\n",
    "        pp *= p_ci(float(v), data, k, ci, variance)\n",
    "    return pp"
   ]
  },
  {
   "cell_type": "markdown",
   "metadata": {},
   "source": [
    "Find the name of the most probable class for the object described by vector $\\mathbf{x}$:"
   ]
  },
  {
   "cell_type": "code",
   "execution_count": 110,
   "metadata": {},
   "outputs": [],
   "source": [
    "def most_probable_class(vector, data, variance=1):\n",
    "    possible_classes = set(data['class'])\n",
    "    most_prob_class = [0, '']\n",
    "    for cj in possible_classes:\n",
    "        prob_cj = p_ci_vec(vector, cj, data, variance) * P(cj, data)\n",
    "        if prob_cj > most_prob_class[0]:\n",
    "            most_prob_class = [prob_cj, cj]\n",
    "    return most_prob_class"
   ]
  },
  {
   "cell_type": "markdown",
   "metadata": {},
   "source": [
    "Some example $\\mathbf{x}$ from the book:"
   ]
  },
  {
   "cell_type": "code",
   "execution_count": 111,
   "metadata": {},
   "outputs": [
    {
     "data": {
      "text/plain": [
       "[7.52826998006665e-05, 'pos']"
      ]
     },
     "execution_count": 111,
     "metadata": {},
     "output_type": "execute_result"
    }
   ],
   "source": [
    "x = {'at1': 9, 'at2': 2.6, 'at3': 3.3}\n",
    "most_probable_class(x, pies)"
   ]
  },
  {
   "cell_type": "code",
   "execution_count": 112,
   "metadata": {
    "scrolled": true
   },
   "outputs": [
    {
     "name": "stdout",
     "output_type": "stream",
     "text": [
      "The most probable class for a given example is:  pos\n"
     ]
    }
   ],
   "source": [
    "print(\"The most probable class for a given example is: \", most_probable_class(x, pies)[1])"
   ]
  },
  {
   "cell_type": "code",
   "execution_count": null,
   "metadata": {},
   "outputs": [],
   "source": []
  },
  {
   "cell_type": "code",
   "execution_count": null,
   "metadata": {},
   "outputs": [],
   "source": []
  },
  {
   "cell_type": "code",
   "execution_count": null,
   "metadata": {},
   "outputs": [],
   "source": []
  }
 ],
 "metadata": {
  "kernelspec": {
   "display_name": "Python 3",
   "language": "python",
   "name": "python3"
  },
  "language_info": {
   "codemirror_mode": {
    "name": "ipython",
    "version": 3
   },
   "file_extension": ".py",
   "mimetype": "text/x-python",
   "name": "python",
   "nbconvert_exporter": "python",
   "pygments_lexer": "ipython3",
   "version": "3.6.4"
  }
 },
 "nbformat": 4,
 "nbformat_minor": 1
}
