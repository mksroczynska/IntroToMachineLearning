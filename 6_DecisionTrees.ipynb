{
 "cells": [
  {
   "cell_type": "markdown",
   "metadata": {},
   "source": [
    "# Decision trees as classifiers\n",
    "#### Tasks from chapter 6 of the book"
   ]
  },
  {
   "cell_type": "code",
   "execution_count": 6,
   "metadata": {},
   "outputs": [],
   "source": [
    "import pandas as pd\n",
    "import numpy as np"
   ]
  },
  {
   "cell_type": "markdown",
   "metadata": {},
   "source": [
    "### Task 3.1\n",
    "\n",
    "Implement the baseline algorithm for the induction of decision trees and test its behavior on a few selected domains from the UCI repository. Compare the results with those achieved by $k$-NN classifier."
   ]
  },
  {
   "cell_type": "code",
   "execution_count": 85,
   "metadata": {},
   "outputs": [
    {
     "data": {
      "text/html": [
       "<div>\n",
       "<style scoped>\n",
       "    .dataframe tbody tr th:only-of-type {\n",
       "        vertical-align: middle;\n",
       "    }\n",
       "\n",
       "    .dataframe tbody tr th {\n",
       "        vertical-align: top;\n",
       "    }\n",
       "\n",
       "    .dataframe thead th {\n",
       "        text-align: right;\n",
       "    }\n",
       "</style>\n",
       "<table border=\"1\" class=\"dataframe\">\n",
       "  <thead>\n",
       "    <tr style=\"text-align: right;\">\n",
       "      <th></th>\n",
       "      <th>shape</th>\n",
       "      <th>crust-size</th>\n",
       "      <th>crust-shade</th>\n",
       "      <th>filling-size</th>\n",
       "      <th>filling-shade</th>\n",
       "      <th>class</th>\n",
       "    </tr>\n",
       "  </thead>\n",
       "  <tbody>\n",
       "    <tr>\n",
       "      <th>0</th>\n",
       "      <td>circle</td>\n",
       "      <td>thick</td>\n",
       "      <td>gray</td>\n",
       "      <td>thick</td>\n",
       "      <td>dark</td>\n",
       "      <td>pos</td>\n",
       "    </tr>\n",
       "    <tr>\n",
       "      <th>1</th>\n",
       "      <td>circle</td>\n",
       "      <td>thick</td>\n",
       "      <td>white</td>\n",
       "      <td>thick</td>\n",
       "      <td>dark</td>\n",
       "      <td>pos</td>\n",
       "    </tr>\n",
       "    <tr>\n",
       "      <th>2</th>\n",
       "      <td>triangle</td>\n",
       "      <td>thick</td>\n",
       "      <td>dark</td>\n",
       "      <td>thick</td>\n",
       "      <td>gray</td>\n",
       "      <td>pos</td>\n",
       "    </tr>\n",
       "    <tr>\n",
       "      <th>3</th>\n",
       "      <td>circle</td>\n",
       "      <td>thin</td>\n",
       "      <td>white</td>\n",
       "      <td>thin</td>\n",
       "      <td>dark</td>\n",
       "      <td>pos</td>\n",
       "    </tr>\n",
       "    <tr>\n",
       "      <th>4</th>\n",
       "      <td>square</td>\n",
       "      <td>thick</td>\n",
       "      <td>dark</td>\n",
       "      <td>thin</td>\n",
       "      <td>white</td>\n",
       "      <td>pos</td>\n",
       "    </tr>\n",
       "  </tbody>\n",
       "</table>\n",
       "</div>"
      ],
      "text/plain": [
       "      shape crust-size crust-shade filling-size filling-shade class\n",
       "0    circle      thick        gray        thick          dark   pos\n",
       "1    circle      thick       white        thick          dark   pos\n",
       "2  triangle      thick        dark        thick          gray   pos\n",
       "3    circle       thin       white         thin          dark   pos\n",
       "4    square      thick        dark         thin         white   pos"
      ]
     },
     "metadata": {},
     "output_type": "display_data"
    },
    {
     "name": "stdout",
     "output_type": "stream",
     "text": [
      "Index(['shape', 'crust-size', 'crust-shade', 'filling-size', 'filling-shade'], dtype='object')\n"
     ]
    }
   ],
   "source": [
    "data = pd.read_csv('pies.csv')\n",
    "display(data.head())\n",
    "print((data.columns).drop('class'))"
   ]
  },
  {
   "cell_type": "code",
   "execution_count": 82,
   "metadata": {},
   "outputs": [],
   "source": [
    "# Entropy of a training set T\n",
    "def H(T):\n",
    "    N = len(T)\n",
    "    classes = T['class'].value_counts()\n",
    "    entropy = 0\n",
    "    for class_label, counts in classes.items():\n",
    "        entropy += -counts/N * np.log2(counts/N)\n",
    "    return entropy"
   ]
  },
  {
   "cell_type": "code",
   "execution_count": 83,
   "metadata": {},
   "outputs": [],
   "source": [
    "# Amount of information contributed by an attribute\n",
    "def I(T, at):\n",
    "    possible_values_of_at = set(T[at])\n",
    "    H_at = 0\n",
    "    for at_value in possible_values_of_at:\n",
    "        Ti = T[T[at] == at_value]\n",
    "        Pi = len(Ti)/len(T)\n",
    "        H_at += Pi * H(Ti)\n",
    "    return H(T) - H_at"
   ]
  },
  {
   "cell_type": "code",
   "execution_count": 86,
   "metadata": {},
   "outputs": [],
   "source": [
    "# Find the attribute with highest value of information gain for a training set T\n",
    "def highest_I_attribute(T):\n",
    "    attributes = (T.columns).drop('class')\n",
    "    best_attribute_name = attributes[0]\n",
    "    best_attribute_I = I(T, attributes[0])\n",
    "    for attribute in attributes:\n",
    "        attribute_I = I(T, attribute)\n",
    "        if attribute_I > best_attribute_I:\n",
    "            best_attribute_name = attribute\n",
    "            best_attribute_I = attribute_I\n",
    "    return best_attribute_name      "
   ]
  },
  {
   "cell_type": "markdown",
   "metadata": {},
   "source": [
    "### Task 3.2\n",
    "\n",
    "Implement the simple pruning mechanism. Choose a data file from UCI repository. Run several experiments and observe how different extent of pruning affects the error rate on the training and testing sets."
   ]
  },
  {
   "cell_type": "markdown",
   "metadata": {},
   "source": [
    "### Task 3.3\n",
    "\n",
    "Choose a sufficiently large domain from the UCI repository. Put aside $30\\%$ of the examples for testing. For training, use $10\\%, 20\\%, \\ldots, 70\\%$ of the remaining examples, respectively. Plot a graph where the horizontal axis gives the number of examples, and the vertical axis gives the computational time spent on the induction. Plot another graph where the vertical axis will give the error rate on the testing set. Discuss the obtained results."
   ]
  },
  {
   "cell_type": "code",
   "execution_count": null,
   "metadata": {},
   "outputs": [],
   "source": []
  }
 ],
 "metadata": {
  "kernelspec": {
   "display_name": "Python 3",
   "language": "python",
   "name": "python3"
  },
  "language_info": {
   "codemirror_mode": {
    "name": "ipython",
    "version": 3
   },
   "file_extension": ".py",
   "mimetype": "text/x-python",
   "name": "python",
   "nbconvert_exporter": "python",
   "pygments_lexer": "ipython3",
   "version": "3.6.4"
  }
 },
 "nbformat": 4,
 "nbformat_minor": 2
}
